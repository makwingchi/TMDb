{
 "cells": [
  {
   "cell_type": "markdown",
   "metadata": {},
   "source": [
    "# Exploring the Relationship between Movie Revenue and Year, Runtime, Popularity, and Budget in the 21st Century\n",
    "\n",
    "## Table of Contents\n",
    "<ul>\n",
    "<li><a href=\"#intro\">Introduction</a></li>\n",
    "<li><a href=\"#wrangling\">Data Wrangling</a></li>\n",
    "<li><a href=\"#eda\">Exploratory Data Analysis</a></li>\n",
    "<li><a href=\"#conclusions\">Conclusions</a></li>\n",
    "</ul>"
   ]
  },
  {
   "cell_type": "markdown",
   "metadata": {},
   "source": [
    "<a id='intro'></a>\n",
    "## Introduction\n",
    "\n",
    "> The data used in the following sections is from https://github.com/udacity/new-dand-basic-china/blob/master/%E6%95%B0%E6%8D%AE%E5%88%86%E6%9E%90%E5%85%A5%E9%97%A8/%E9%A1%B9%E7%9B%AE-%E6%8E%A2%E7%B4%A2%E6%95%B0%E6%8D%AE%E9%9B%86/%E6%8E%A2%E7%B4%A2%E6%95%B0%E6%8D%AE%E9%9B%86%20-%20%E5%A4%87%E9%80%89%E6%95%B0%E6%8D%AE%E9%9B%86.md"
   ]
  },
  {
   "cell_type": "code",
   "execution_count": 1,
   "metadata": {},
   "outputs": [],
   "source": [
    "import numpy as np\n",
    "import pandas as pd\n",
    "import matplotlib.pyplot as plt\n",
    "import seaborn as sns\n",
    "\n",
    "%matplotlib inline"
   ]
  },
  {
   "cell_type": "markdown",
   "metadata": {},
   "source": [
    "> This markdown aims to explore the relationship between movie revenue and year, runtime, popularity, and budget in the 21st century."
   ]
  },
  {
   "cell_type": "markdown",
   "metadata": {},
   "source": [
    "<a id='wrangling'></a>\n",
    "## Data Wrangling\n",
    "\n",
    "\n",
    "### General Properties"
   ]
  },
  {
   "cell_type": "code",
   "execution_count": 2,
   "metadata": {},
   "outputs": [],
   "source": [
    "df = pd.read_csv('tmdb-movies.csv')"
   ]
  },
  {
   "cell_type": "code",
   "execution_count": 3,
   "metadata": {},
   "outputs": [
    {
     "data": {
      "text/plain": [
       "(10866, 21)"
      ]
     },
     "execution_count": 3,
     "metadata": {},
     "output_type": "execute_result"
    }
   ],
   "source": [
    "df.shape"
   ]
  },
  {
   "cell_type": "markdown",
   "metadata": {},
   "source": [
    "> Through df.shape command, we know the number of rows and columns of the dataset. This dataset includes 10,866 observations, with 21 variables."
   ]
  },
  {
   "cell_type": "code",
   "execution_count": 4,
   "metadata": {},
   "outputs": [
    {
     "data": {
      "text/html": [
       "<div>\n",
       "<style scoped>\n",
       "    .dataframe tbody tr th:only-of-type {\n",
       "        vertical-align: middle;\n",
       "    }\n",
       "\n",
       "    .dataframe tbody tr th {\n",
       "        vertical-align: top;\n",
       "    }\n",
       "\n",
       "    .dataframe thead th {\n",
       "        text-align: right;\n",
       "    }\n",
       "</style>\n",
       "<table border=\"1\" class=\"dataframe\">\n",
       "  <thead>\n",
       "    <tr style=\"text-align: right;\">\n",
       "      <th></th>\n",
       "      <th>id</th>\n",
       "      <th>imdb_id</th>\n",
       "      <th>popularity</th>\n",
       "      <th>budget</th>\n",
       "      <th>revenue</th>\n",
       "      <th>original_title</th>\n",
       "      <th>cast</th>\n",
       "      <th>homepage</th>\n",
       "      <th>director</th>\n",
       "      <th>tagline</th>\n",
       "      <th>...</th>\n",
       "      <th>overview</th>\n",
       "      <th>runtime</th>\n",
       "      <th>genres</th>\n",
       "      <th>production_companies</th>\n",
       "      <th>release_date</th>\n",
       "      <th>vote_count</th>\n",
       "      <th>vote_average</th>\n",
       "      <th>release_year</th>\n",
       "      <th>budget_adj</th>\n",
       "      <th>revenue_adj</th>\n",
       "    </tr>\n",
       "  </thead>\n",
       "  <tbody>\n",
       "    <tr>\n",
       "      <th>0</th>\n",
       "      <td>135397</td>\n",
       "      <td>tt0369610</td>\n",
       "      <td>32.985763</td>\n",
       "      <td>150000000</td>\n",
       "      <td>1513528810</td>\n",
       "      <td>Jurassic World</td>\n",
       "      <td>Chris Pratt|Bryce Dallas Howard|Irrfan Khan|Vi...</td>\n",
       "      <td>http://www.jurassicworld.com/</td>\n",
       "      <td>Colin Trevorrow</td>\n",
       "      <td>The park is open.</td>\n",
       "      <td>...</td>\n",
       "      <td>Twenty-two years after the events of Jurassic ...</td>\n",
       "      <td>124</td>\n",
       "      <td>Action|Adventure|Science Fiction|Thriller</td>\n",
       "      <td>Universal Studios|Amblin Entertainment|Legenda...</td>\n",
       "      <td>6/9/15</td>\n",
       "      <td>5562</td>\n",
       "      <td>6.5</td>\n",
       "      <td>2015</td>\n",
       "      <td>1.379999e+08</td>\n",
       "      <td>1.392446e+09</td>\n",
       "    </tr>\n",
       "    <tr>\n",
       "      <th>1</th>\n",
       "      <td>76341</td>\n",
       "      <td>tt1392190</td>\n",
       "      <td>28.419936</td>\n",
       "      <td>150000000</td>\n",
       "      <td>378436354</td>\n",
       "      <td>Mad Max: Fury Road</td>\n",
       "      <td>Tom Hardy|Charlize Theron|Hugh Keays-Byrne|Nic...</td>\n",
       "      <td>http://www.madmaxmovie.com/</td>\n",
       "      <td>George Miller</td>\n",
       "      <td>What a Lovely Day.</td>\n",
       "      <td>...</td>\n",
       "      <td>An apocalyptic story set in the furthest reach...</td>\n",
       "      <td>120</td>\n",
       "      <td>Action|Adventure|Science Fiction|Thriller</td>\n",
       "      <td>Village Roadshow Pictures|Kennedy Miller Produ...</td>\n",
       "      <td>5/13/15</td>\n",
       "      <td>6185</td>\n",
       "      <td>7.1</td>\n",
       "      <td>2015</td>\n",
       "      <td>1.379999e+08</td>\n",
       "      <td>3.481613e+08</td>\n",
       "    </tr>\n",
       "    <tr>\n",
       "      <th>2</th>\n",
       "      <td>262500</td>\n",
       "      <td>tt2908446</td>\n",
       "      <td>13.112507</td>\n",
       "      <td>110000000</td>\n",
       "      <td>295238201</td>\n",
       "      <td>Insurgent</td>\n",
       "      <td>Shailene Woodley|Theo James|Kate Winslet|Ansel...</td>\n",
       "      <td>http://www.thedivergentseries.movie/#insurgent</td>\n",
       "      <td>Robert Schwentke</td>\n",
       "      <td>One Choice Can Destroy You</td>\n",
       "      <td>...</td>\n",
       "      <td>Beatrice Prior must confront her inner demons ...</td>\n",
       "      <td>119</td>\n",
       "      <td>Adventure|Science Fiction|Thriller</td>\n",
       "      <td>Summit Entertainment|Mandeville Films|Red Wago...</td>\n",
       "      <td>3/18/15</td>\n",
       "      <td>2480</td>\n",
       "      <td>6.3</td>\n",
       "      <td>2015</td>\n",
       "      <td>1.012000e+08</td>\n",
       "      <td>2.716190e+08</td>\n",
       "    </tr>\n",
       "  </tbody>\n",
       "</table>\n",
       "<p>3 rows × 21 columns</p>\n",
       "</div>"
      ],
      "text/plain": [
       "       id    imdb_id  popularity     budget     revenue      original_title  \\\n",
       "0  135397  tt0369610   32.985763  150000000  1513528810      Jurassic World   \n",
       "1   76341  tt1392190   28.419936  150000000   378436354  Mad Max: Fury Road   \n",
       "2  262500  tt2908446   13.112507  110000000   295238201           Insurgent   \n",
       "\n",
       "                                                cast  \\\n",
       "0  Chris Pratt|Bryce Dallas Howard|Irrfan Khan|Vi...   \n",
       "1  Tom Hardy|Charlize Theron|Hugh Keays-Byrne|Nic...   \n",
       "2  Shailene Woodley|Theo James|Kate Winslet|Ansel...   \n",
       "\n",
       "                                         homepage          director  \\\n",
       "0                   http://www.jurassicworld.com/   Colin Trevorrow   \n",
       "1                     http://www.madmaxmovie.com/     George Miller   \n",
       "2  http://www.thedivergentseries.movie/#insurgent  Robert Schwentke   \n",
       "\n",
       "                      tagline      ...       \\\n",
       "0           The park is open.      ...        \n",
       "1          What a Lovely Day.      ...        \n",
       "2  One Choice Can Destroy You      ...        \n",
       "\n",
       "                                            overview runtime  \\\n",
       "0  Twenty-two years after the events of Jurassic ...     124   \n",
       "1  An apocalyptic story set in the furthest reach...     120   \n",
       "2  Beatrice Prior must confront her inner demons ...     119   \n",
       "\n",
       "                                      genres  \\\n",
       "0  Action|Adventure|Science Fiction|Thriller   \n",
       "1  Action|Adventure|Science Fiction|Thriller   \n",
       "2         Adventure|Science Fiction|Thriller   \n",
       "\n",
       "                                production_companies release_date vote_count  \\\n",
       "0  Universal Studios|Amblin Entertainment|Legenda...       6/9/15       5562   \n",
       "1  Village Roadshow Pictures|Kennedy Miller Produ...      5/13/15       6185   \n",
       "2  Summit Entertainment|Mandeville Films|Red Wago...      3/18/15       2480   \n",
       "\n",
       "   vote_average  release_year    budget_adj   revenue_adj  \n",
       "0           6.5          2015  1.379999e+08  1.392446e+09  \n",
       "1           7.1          2015  1.379999e+08  3.481613e+08  \n",
       "2           6.3          2015  1.012000e+08  2.716190e+08  \n",
       "\n",
       "[3 rows x 21 columns]"
      ]
     },
     "execution_count": 4,
     "metadata": {},
     "output_type": "execute_result"
    }
   ],
   "source": [
    "df.head(3)"
   ]
  },
  {
   "cell_type": "markdown",
   "metadata": {},
   "source": [
    "> Using df.head, we get the first rows of the movie dataset."
   ]
  },
  {
   "cell_type": "code",
   "execution_count": 5,
   "metadata": {},
   "outputs": [
    {
     "name": "stdout",
     "output_type": "stream",
     "text": [
      "<class 'pandas.core.frame.DataFrame'>\n",
      "RangeIndex: 10866 entries, 0 to 10865\n",
      "Data columns (total 21 columns):\n",
      "id                      10866 non-null int64\n",
      "imdb_id                 10856 non-null object\n",
      "popularity              10866 non-null float64\n",
      "budget                  10866 non-null int64\n",
      "revenue                 10866 non-null int64\n",
      "original_title          10866 non-null object\n",
      "cast                    10790 non-null object\n",
      "homepage                2936 non-null object\n",
      "director                10822 non-null object\n",
      "tagline                 8042 non-null object\n",
      "keywords                9373 non-null object\n",
      "overview                10862 non-null object\n",
      "runtime                 10866 non-null int64\n",
      "genres                  10843 non-null object\n",
      "production_companies    9836 non-null object\n",
      "release_date            10866 non-null object\n",
      "vote_count              10866 non-null int64\n",
      "vote_average            10866 non-null float64\n",
      "release_year            10866 non-null int64\n",
      "budget_adj              10866 non-null float64\n",
      "revenue_adj             10866 non-null float64\n",
      "dtypes: float64(4), int64(6), object(11)\n",
      "memory usage: 1.3+ MB\n"
     ]
    }
   ],
   "source": [
    "df.info()"
   ]
  },
  {
   "cell_type": "markdown",
   "metadata": {},
   "source": [
    "> df.info returns the number of nulls in, and the data type of each column."
   ]
  },
  {
   "cell_type": "code",
   "execution_count": 6,
   "metadata": {},
   "outputs": [
    {
     "data": {
      "text/plain": [
       "id                         0\n",
       "imdb_id                   10\n",
       "popularity                 0\n",
       "budget                     0\n",
       "revenue                    0\n",
       "original_title             0\n",
       "cast                      76\n",
       "homepage                7930\n",
       "director                  44\n",
       "tagline                 2824\n",
       "keywords                1493\n",
       "overview                   4\n",
       "runtime                    0\n",
       "genres                    23\n",
       "production_companies    1030\n",
       "release_date               0\n",
       "vote_count                 0\n",
       "vote_average               0\n",
       "release_year               0\n",
       "budget_adj                 0\n",
       "revenue_adj                0\n",
       "dtype: int64"
      ]
     },
     "execution_count": 6,
     "metadata": {},
     "output_type": "execute_result"
    }
   ],
   "source": [
    "df.isnull().sum()"
   ]
  },
  {
   "cell_type": "markdown",
   "metadata": {},
   "source": [
    "> Here, we calculate the number of nulls in each column."
   ]
  },
  {
   "cell_type": "code",
   "execution_count": 7,
   "metadata": {},
   "outputs": [
    {
     "data": {
      "text/plain": [
       "1"
      ]
     },
     "execution_count": 7,
     "metadata": {},
     "output_type": "execute_result"
    }
   ],
   "source": [
    "df.duplicated().sum()"
   ]
  },
  {
   "cell_type": "markdown",
   "metadata": {},
   "source": [
    "> There is one duplicated row in the dataset."
   ]
  },
  {
   "cell_type": "markdown",
   "metadata": {},
   "source": [
    "\n",
    "### Data Cleaning"
   ]
  },
  {
   "cell_type": "code",
   "execution_count": 8,
   "metadata": {},
   "outputs": [],
   "source": [
    "df_21 = df.query('release_year>=2000')"
   ]
  },
  {
   "cell_type": "markdown",
   "metadata": {},
   "source": [
    "> Since we only care about the movies in the 21st century, the first step in this section is to filter the corresponding rows."
   ]
  },
  {
   "cell_type": "code",
   "execution_count": 9,
   "metadata": {},
   "outputs": [],
   "source": [
    "index = ['original_title', 'revenue_adj', 'budget_adj', 'runtime', 'popularity', 'release_year']\n",
    "df_21 = df_21[index]"
   ]
  },
  {
   "cell_type": "markdown",
   "metadata": {},
   "source": [
    "> In addition, we extract the columns that are of interest."
   ]
  },
  {
   "cell_type": "code",
   "execution_count": 10,
   "metadata": {},
   "outputs": [
    {
     "data": {
      "text/plain": [
       "(7168, 6)"
      ]
     },
     "execution_count": 10,
     "metadata": {},
     "output_type": "execute_result"
    }
   ],
   "source": [
    "df_21.shape"
   ]
  },
  {
   "cell_type": "code",
   "execution_count": 11,
   "metadata": {},
   "outputs": [
    {
     "data": {
      "text/plain": [
       "original_title    0\n",
       "revenue_adj       0\n",
       "budget_adj        0\n",
       "runtime           0\n",
       "popularity        0\n",
       "release_year      0\n",
       "dtype: int64"
      ]
     },
     "execution_count": 11,
     "metadata": {},
     "output_type": "execute_result"
    }
   ],
   "source": [
    "df_21.isnull().sum()"
   ]
  },
  {
   "cell_type": "code",
   "execution_count": 12,
   "metadata": {},
   "outputs": [
    {
     "name": "stdout",
     "output_type": "stream",
     "text": [
      "<class 'pandas.core.frame.DataFrame'>\n",
      "Int64Index: 7168 entries, 0 to 8887\n",
      "Data columns (total 6 columns):\n",
      "original_title    7168 non-null object\n",
      "revenue_adj       7168 non-null float64\n",
      "budget_adj        7168 non-null float64\n",
      "runtime           7168 non-null int64\n",
      "popularity        7168 non-null float64\n",
      "release_year      7168 non-null int64\n",
      "dtypes: float64(3), int64(2), object(1)\n",
      "memory usage: 364.0+ KB\n"
     ]
    }
   ],
   "source": [
    "df_21.info()"
   ]
  },
  {
   "cell_type": "code",
   "execution_count": 13,
   "metadata": {},
   "outputs": [
    {
     "data": {
      "text/html": [
       "<div>\n",
       "<style scoped>\n",
       "    .dataframe tbody tr th:only-of-type {\n",
       "        vertical-align: middle;\n",
       "    }\n",
       "\n",
       "    .dataframe tbody tr th {\n",
       "        vertical-align: top;\n",
       "    }\n",
       "\n",
       "    .dataframe thead th {\n",
       "        text-align: right;\n",
       "    }\n",
       "</style>\n",
       "<table border=\"1\" class=\"dataframe\">\n",
       "  <thead>\n",
       "    <tr style=\"text-align: right;\">\n",
       "      <th></th>\n",
       "      <th>revenue_adj</th>\n",
       "      <th>budget_adj</th>\n",
       "      <th>runtime</th>\n",
       "      <th>popularity</th>\n",
       "      <th>release_year</th>\n",
       "    </tr>\n",
       "  </thead>\n",
       "  <tbody>\n",
       "    <tr>\n",
       "      <th>count</th>\n",
       "      <td>7.168000e+03</td>\n",
       "      <td>7.168000e+03</td>\n",
       "      <td>7168.000000</td>\n",
       "      <td>7168.000000</td>\n",
       "      <td>7168.000000</td>\n",
       "    </tr>\n",
       "    <tr>\n",
       "      <th>mean</th>\n",
       "      <td>4.501970e+07</td>\n",
       "      <td>1.767841e+07</td>\n",
       "      <td>99.737723</td>\n",
       "      <td>0.693524</td>\n",
       "      <td>2009.018136</td>\n",
       "    </tr>\n",
       "    <tr>\n",
       "      <th>std</th>\n",
       "      <td>1.326838e+08</td>\n",
       "      <td>3.632479e+07</td>\n",
       "      <td>33.352364</td>\n",
       "      <td>1.129084</td>\n",
       "      <td>4.341236</td>\n",
       "    </tr>\n",
       "    <tr>\n",
       "      <th>min</th>\n",
       "      <td>0.000000e+00</td>\n",
       "      <td>0.000000e+00</td>\n",
       "      <td>0.000000</td>\n",
       "      <td>0.000620</td>\n",
       "      <td>2000.000000</td>\n",
       "    </tr>\n",
       "    <tr>\n",
       "      <th>25%</th>\n",
       "      <td>0.000000e+00</td>\n",
       "      <td>0.000000e+00</td>\n",
       "      <td>89.000000</td>\n",
       "      <td>0.204303</td>\n",
       "      <td>2006.000000</td>\n",
       "    </tr>\n",
       "    <tr>\n",
       "      <th>50%</th>\n",
       "      <td>0.000000e+00</td>\n",
       "      <td>0.000000e+00</td>\n",
       "      <td>97.000000</td>\n",
       "      <td>0.390768</td>\n",
       "      <td>2010.000000</td>\n",
       "    </tr>\n",
       "    <tr>\n",
       "      <th>75%</th>\n",
       "      <td>2.319898e+07</td>\n",
       "      <td>1.894612e+07</td>\n",
       "      <td>109.000000</td>\n",
       "      <td>0.767455</td>\n",
       "      <td>2013.000000</td>\n",
       "    </tr>\n",
       "    <tr>\n",
       "      <th>max</th>\n",
       "      <td>2.827124e+09</td>\n",
       "      <td>4.250000e+08</td>\n",
       "      <td>900.000000</td>\n",
       "      <td>32.985763</td>\n",
       "      <td>2015.000000</td>\n",
       "    </tr>\n",
       "  </tbody>\n",
       "</table>\n",
       "</div>"
      ],
      "text/plain": [
       "        revenue_adj    budget_adj      runtime   popularity  release_year\n",
       "count  7.168000e+03  7.168000e+03  7168.000000  7168.000000   7168.000000\n",
       "mean   4.501970e+07  1.767841e+07    99.737723     0.693524   2009.018136\n",
       "std    1.326838e+08  3.632479e+07    33.352364     1.129084      4.341236\n",
       "min    0.000000e+00  0.000000e+00     0.000000     0.000620   2000.000000\n",
       "25%    0.000000e+00  0.000000e+00    89.000000     0.204303   2006.000000\n",
       "50%    0.000000e+00  0.000000e+00    97.000000     0.390768   2010.000000\n",
       "75%    2.319898e+07  1.894612e+07   109.000000     0.767455   2013.000000\n",
       "max    2.827124e+09  4.250000e+08   900.000000    32.985763   2015.000000"
      ]
     },
     "execution_count": 13,
     "metadata": {},
     "output_type": "execute_result"
    }
   ],
   "source": [
    "df_21.describe()"
   ]
  },
  {
   "cell_type": "markdown",
   "metadata": {},
   "source": [
    "> From the summary statistics, we can detect whether there exists outliers in the dataset. Please note that the min of both revenue and budget equal zero. Besides, the maximum of runtime is 900 minutes, which is not normal for a movie. In fact, the items in the TMDb dataset include not only movies but also TV shows, such as Frank Herbert's Dune. Consequently, for the following analyses, we will focus on those whose runtime is between 60 to 180 minutes."
   ]
  },
  {
   "cell_type": "code",
   "execution_count": 14,
   "metadata": {},
   "outputs": [],
   "source": [
    "df_21 = df_21.query('runtime >= 60 and runtime < 180 and revenue_adj > 0 and budget_adj > 0')"
   ]
  },
  {
   "cell_type": "code",
   "execution_count": 15,
   "metadata": {},
   "outputs": [
    {
     "data": {
      "text/html": [
       "<div>\n",
       "<style scoped>\n",
       "    .dataframe tbody tr th:only-of-type {\n",
       "        vertical-align: middle;\n",
       "    }\n",
       "\n",
       "    .dataframe tbody tr th {\n",
       "        vertical-align: top;\n",
       "    }\n",
       "\n",
       "    .dataframe thead th {\n",
       "        text-align: right;\n",
       "    }\n",
       "</style>\n",
       "<table border=\"1\" class=\"dataframe\">\n",
       "  <thead>\n",
       "    <tr style=\"text-align: right;\">\n",
       "      <th></th>\n",
       "      <th>revenue_adj</th>\n",
       "      <th>budget_adj</th>\n",
       "      <th>runtime</th>\n",
       "      <th>popularity</th>\n",
       "      <th>release_year</th>\n",
       "    </tr>\n",
       "  </thead>\n",
       "  <tbody>\n",
       "    <tr>\n",
       "      <th>count</th>\n",
       "      <td>2.489000e+03</td>\n",
       "      <td>2.489000e+03</td>\n",
       "      <td>2489.000000</td>\n",
       "      <td>2489.000000</td>\n",
       "      <td>2489.000000</td>\n",
       "    </tr>\n",
       "    <tr>\n",
       "      <th>mean</th>\n",
       "      <td>1.259005e+08</td>\n",
       "      <td>4.628817e+07</td>\n",
       "      <td>107.756529</td>\n",
       "      <td>1.332739</td>\n",
       "      <td>2008.062274</td>\n",
       "    </tr>\n",
       "    <tr>\n",
       "      <th>std</th>\n",
       "      <td>1.986547e+08</td>\n",
       "      <td>4.857005e+07</td>\n",
       "      <td>17.115557</td>\n",
       "      <td>1.674664</td>\n",
       "      <td>4.403181</td>\n",
       "    </tr>\n",
       "    <tr>\n",
       "      <th>min</th>\n",
       "      <td>2.370705e+00</td>\n",
       "      <td>9.693980e-01</td>\n",
       "      <td>62.000000</td>\n",
       "      <td>0.001117</td>\n",
       "      <td>2000.000000</td>\n",
       "    </tr>\n",
       "    <tr>\n",
       "      <th>25%</th>\n",
       "      <td>1.514377e+07</td>\n",
       "      <td>1.266292e+07</td>\n",
       "      <td>95.000000</td>\n",
       "      <td>0.513438</td>\n",
       "      <td>2005.000000</td>\n",
       "    </tr>\n",
       "    <tr>\n",
       "      <th>50%</th>\n",
       "      <td>5.669017e+07</td>\n",
       "      <td>2.995307e+07</td>\n",
       "      <td>105.000000</td>\n",
       "      <td>0.895829</td>\n",
       "      <td>2008.000000</td>\n",
       "    </tr>\n",
       "    <tr>\n",
       "      <th>75%</th>\n",
       "      <td>1.464947e+08</td>\n",
       "      <td>6.255997e+07</td>\n",
       "      <td>117.000000</td>\n",
       "      <td>1.535278</td>\n",
       "      <td>2012.000000</td>\n",
       "    </tr>\n",
       "    <tr>\n",
       "      <th>max</th>\n",
       "      <td>2.827124e+09</td>\n",
       "      <td>4.250000e+08</td>\n",
       "      <td>179.000000</td>\n",
       "      <td>32.985763</td>\n",
       "      <td>2015.000000</td>\n",
       "    </tr>\n",
       "  </tbody>\n",
       "</table>\n",
       "</div>"
      ],
      "text/plain": [
       "        revenue_adj    budget_adj      runtime   popularity  release_year\n",
       "count  2.489000e+03  2.489000e+03  2489.000000  2489.000000   2489.000000\n",
       "mean   1.259005e+08  4.628817e+07   107.756529     1.332739   2008.062274\n",
       "std    1.986547e+08  4.857005e+07    17.115557     1.674664      4.403181\n",
       "min    2.370705e+00  9.693980e-01    62.000000     0.001117   2000.000000\n",
       "25%    1.514377e+07  1.266292e+07    95.000000     0.513438   2005.000000\n",
       "50%    5.669017e+07  2.995307e+07   105.000000     0.895829   2008.000000\n",
       "75%    1.464947e+08  6.255997e+07   117.000000     1.535278   2012.000000\n",
       "max    2.827124e+09  4.250000e+08   179.000000    32.985763   2015.000000"
      ]
     },
     "execution_count": 15,
     "metadata": {},
     "output_type": "execute_result"
    }
   ],
   "source": [
    "df_21.describe()"
   ]
  },
  {
   "cell_type": "markdown",
   "metadata": {},
   "source": [
    "> The current dataset does not contain any outliers anymore."
   ]
  },
  {
   "cell_type": "code",
   "execution_count": 16,
   "metadata": {},
   "outputs": [
    {
     "data": {
      "text/plain": [
       "1"
      ]
     },
     "execution_count": 16,
     "metadata": {},
     "output_type": "execute_result"
    }
   ],
   "source": [
    "df_21.duplicated().sum()"
   ]
  },
  {
   "cell_type": "code",
   "execution_count": 17,
   "metadata": {},
   "outputs": [],
   "source": [
    "df_21.drop_duplicates(inplace = True)"
   ]
  },
  {
   "cell_type": "code",
   "execution_count": 18,
   "metadata": {},
   "outputs": [
    {
     "data": {
      "text/plain": [
       "0"
      ]
     },
     "execution_count": 18,
     "metadata": {},
     "output_type": "execute_result"
    }
   ],
   "source": [
    "df_21.duplicated().sum()"
   ]
  },
  {
   "cell_type": "markdown",
   "metadata": {},
   "source": [
    "> These previous three steps remove the duplicated observations in the dataset."
   ]
  },
  {
   "cell_type": "code",
   "execution_count": 19,
   "metadata": {},
   "outputs": [],
   "source": [
    "df_21['release_year'] = pd.to_datetime(df_21['release_year'], format = '%Y')"
   ]
  },
  {
   "cell_type": "markdown",
   "metadata": {},
   "source": [
    "> We change the data type of release year here."
   ]
  },
  {
   "cell_type": "code",
   "execution_count": 20,
   "metadata": {},
   "outputs": [],
   "source": [
    "df_21.rename(columns = {'revenue_adj':'revenue', 'budget_adj': 'budget'}, inplace = True)"
   ]
  },
  {
   "cell_type": "markdown",
   "metadata": {},
   "source": [
    "> Simplify the row names of a few variables."
   ]
  },
  {
   "cell_type": "code",
   "execution_count": 21,
   "metadata": {},
   "outputs": [
    {
     "data": {
      "text/html": [
       "<div>\n",
       "<style scoped>\n",
       "    .dataframe tbody tr th:only-of-type {\n",
       "        vertical-align: middle;\n",
       "    }\n",
       "\n",
       "    .dataframe tbody tr th {\n",
       "        vertical-align: top;\n",
       "    }\n",
       "\n",
       "    .dataframe thead th {\n",
       "        text-align: right;\n",
       "    }\n",
       "</style>\n",
       "<table border=\"1\" class=\"dataframe\">\n",
       "  <thead>\n",
       "    <tr style=\"text-align: right;\">\n",
       "      <th></th>\n",
       "      <th>original_title</th>\n",
       "      <th>revenue</th>\n",
       "      <th>budget</th>\n",
       "      <th>runtime</th>\n",
       "      <th>popularity</th>\n",
       "      <th>release_year</th>\n",
       "    </tr>\n",
       "  </thead>\n",
       "  <tbody>\n",
       "    <tr>\n",
       "      <th>8862</th>\n",
       "      <td>Shadow of the Vampire</td>\n",
       "      <td>1.048365e+07</td>\n",
       "      <td>1.013034e+07</td>\n",
       "      <td>92</td>\n",
       "      <td>0.119214</td>\n",
       "      <td>2000-01-01</td>\n",
       "    </tr>\n",
       "    <tr>\n",
       "      <th>8866</th>\n",
       "      <td>The Adventures of Rocky &amp; Bullwinkle</td>\n",
       "      <td>4.449095e+07</td>\n",
       "      <td>9.623820e+07</td>\n",
       "      <td>88</td>\n",
       "      <td>0.104908</td>\n",
       "      <td>2000-01-01</td>\n",
       "    </tr>\n",
       "    <tr>\n",
       "      <th>8868</th>\n",
       "      <td>The Big Kahuna</td>\n",
       "      <td>4.721861e+06</td>\n",
       "      <td>8.864045e+06</td>\n",
       "      <td>90</td>\n",
       "      <td>0.091492</td>\n",
       "      <td>2000-01-01</td>\n",
       "    </tr>\n",
       "    <tr>\n",
       "      <th>8881</th>\n",
       "      <td>Hanging Up</td>\n",
       "      <td>4.563452e+07</td>\n",
       "      <td>5.065168e+07</td>\n",
       "      <td>94</td>\n",
       "      <td>0.031018</td>\n",
       "      <td>2000-01-01</td>\n",
       "    </tr>\n",
       "    <tr>\n",
       "      <th>8883</th>\n",
       "      <td>The In Crowd</td>\n",
       "      <td>6.606877e+06</td>\n",
       "      <td>1.899438e+07</td>\n",
       "      <td>105</td>\n",
       "      <td>0.015997</td>\n",
       "      <td>2000-01-01</td>\n",
       "    </tr>\n",
       "  </tbody>\n",
       "</table>\n",
       "</div>"
      ],
      "text/plain": [
       "                            original_title       revenue        budget  \\\n",
       "8862                 Shadow of the Vampire  1.048365e+07  1.013034e+07   \n",
       "8866  The Adventures of Rocky & Bullwinkle  4.449095e+07  9.623820e+07   \n",
       "8868                        The Big Kahuna  4.721861e+06  8.864045e+06   \n",
       "8881                            Hanging Up  4.563452e+07  5.065168e+07   \n",
       "8883                          The In Crowd  6.606877e+06  1.899438e+07   \n",
       "\n",
       "      runtime  popularity release_year  \n",
       "8862       92    0.119214   2000-01-01  \n",
       "8866       88    0.104908   2000-01-01  \n",
       "8868       90    0.091492   2000-01-01  \n",
       "8881       94    0.031018   2000-01-01  \n",
       "8883      105    0.015997   2000-01-01  "
      ]
     },
     "execution_count": 21,
     "metadata": {},
     "output_type": "execute_result"
    }
   ],
   "source": [
    "df_21.tail()"
   ]
  },
  {
   "cell_type": "markdown",
   "metadata": {},
   "source": [
    "<a id='eda'></a>\n",
    "## Exploratory Data Analysis\n",
    "\n",
    "\n",
    "### 1: Revenue of Movies in the 21st Century\n",
    "\n",
    "#### Independent Variable: release year, Dependent Variable: revenue"
   ]
  },
  {
   "cell_type": "code",
   "execution_count": 22,
   "metadata": {},
   "outputs": [],
   "source": [
    "year_revenue = df_21.groupby('release_year')['revenue'].sum()"
   ]
  },
  {
   "cell_type": "code",
   "execution_count": 23,
   "metadata": {},
   "outputs": [
    {
     "data": {
      "text/plain": [
       "release_year\n",
       "2000-01-01    1.386587e+10\n",
       "2001-01-01    1.575690e+10\n",
       "2002-01-01    1.746921e+10\n",
       "2003-01-01    1.615183e+10\n",
       "2004-01-01    1.903185e+10\n",
       "2005-01-01    1.735184e+10\n",
       "2006-01-01    1.691787e+10\n",
       "2007-01-01    1.957748e+10\n",
       "2008-01-01    1.911324e+10\n",
       "2009-01-01    2.196150e+10\n",
       "2010-01-01    2.180349e+10\n",
       "2011-01-01    2.269191e+10\n",
       "2012-01-01    2.296905e+10\n",
       "2013-01-01    2.242611e+10\n",
       "2014-01-01    2.217063e+10\n",
       "2015-01-01    2.410668e+10\n",
       "Name: revenue, dtype: float64"
      ]
     },
     "execution_count": 23,
     "metadata": {},
     "output_type": "execute_result"
    }
   ],
   "source": [
    "year_revenue"
   ]
  },
  {
   "cell_type": "markdown",
   "metadata": {},
   "source": [
    "> We sum the total number of revenue in each year."
   ]
  },
  {
   "cell_type": "code",
   "execution_count": 24,
   "metadata": {},
   "outputs": [
    {
     "data": {
      "image/png": "[encoded data removed]",
      "text/plain": [
       "<Figure size 720x432 with 1 Axes>"
      ]
     },
     "metadata": {},
     "output_type": "display_data"
    }
   ],
   "source": [
    "sns.set_style('whitegrid')\n",
    "\n",
    "year_revenue.plot(figsize = (10,6), color = 'orange')\n",
    "plt.xlabel('Year')\n",
    "plt.ylabel('Revenue in e10')\n",
    "plt.title('Total Movie Revenue from 2000 to 2015');"
   ]
  },
  {
   "cell_type": "markdown",
   "metadata": {},
   "source": [
    "From the line plot above, we can see overall, the revenue increases from 2000 to 2015, but the numbers fluctuate quite a bit. For instance, the total revenue first increased then decreased from 2000 to 2003. What might also worth noticing is that the revenues is impacted by inflation. In other words, the value of 1 dollar differs in 2000 and 2015. For future research, we may consider using 2015 inflation level to normalize the movie revenues."
   ]
  },
  {
   "cell_type": "markdown",
   "metadata": {},
   "source": [
    "### 2: Relationship between Revenue and Runtime\n",
    "\n",
    "#### Independent Variable: Runtime, Dependent Variable: Revenue"
   ]
  },
  {
   "cell_type": "code",
   "execution_count": 25,
   "metadata": {},
   "outputs": [
    {
     "data": {
      "text/html": [
       "<div>\n",
       "<style scoped>\n",
       "    .dataframe tbody tr th:only-of-type {\n",
       "        vertical-align: middle;\n",
       "    }\n",
       "\n",
       "    .dataframe tbody tr th {\n",
       "        vertical-align: top;\n",
       "    }\n",
       "\n",
       "    .dataframe thead th {\n",
       "        text-align: right;\n",
       "    }\n",
       "</style>\n",
       "<table border=\"1\" class=\"dataframe\">\n",
       "  <thead>\n",
       "    <tr style=\"text-align: right;\">\n",
       "      <th></th>\n",
       "      <th>original_title</th>\n",
       "      <th>revenue</th>\n",
       "      <th>budget</th>\n",
       "      <th>runtime</th>\n",
       "      <th>popularity</th>\n",
       "      <th>release_year</th>\n",
       "    </tr>\n",
       "  </thead>\n",
       "  <tbody>\n",
       "    <tr>\n",
       "      <th>0</th>\n",
       "      <td>Jurassic World</td>\n",
       "      <td>1.392446e+09</td>\n",
       "      <td>1.379999e+08</td>\n",
       "      <td>124</td>\n",
       "      <td>32.985763</td>\n",
       "      <td>2015-01-01</td>\n",
       "    </tr>\n",
       "    <tr>\n",
       "      <th>1</th>\n",
       "      <td>Mad Max: Fury Road</td>\n",
       "      <td>3.481613e+08</td>\n",
       "      <td>1.379999e+08</td>\n",
       "      <td>120</td>\n",
       "      <td>28.419936</td>\n",
       "      <td>2015-01-01</td>\n",
       "    </tr>\n",
       "    <tr>\n",
       "      <th>2</th>\n",
       "      <td>Insurgent</td>\n",
       "      <td>2.716190e+08</td>\n",
       "      <td>1.012000e+08</td>\n",
       "      <td>119</td>\n",
       "      <td>13.112507</td>\n",
       "      <td>2015-01-01</td>\n",
       "    </tr>\n",
       "    <tr>\n",
       "      <th>3</th>\n",
       "      <td>Star Wars: The Force Awakens</td>\n",
       "      <td>1.902723e+09</td>\n",
       "      <td>1.839999e+08</td>\n",
       "      <td>136</td>\n",
       "      <td>11.173104</td>\n",
       "      <td>2015-01-01</td>\n",
       "    </tr>\n",
       "    <tr>\n",
       "      <th>4</th>\n",
       "      <td>Furious 7</td>\n",
       "      <td>1.385749e+09</td>\n",
       "      <td>1.747999e+08</td>\n",
       "      <td>137</td>\n",
       "      <td>9.335014</td>\n",
       "      <td>2015-01-01</td>\n",
       "    </tr>\n",
       "  </tbody>\n",
       "</table>\n",
       "</div>"
      ],
      "text/plain": [
       "                 original_title       revenue        budget  runtime  \\\n",
       "0                Jurassic World  1.392446e+09  1.379999e+08      124   \n",
       "1            Mad Max: Fury Road  3.481613e+08  1.379999e+08      120   \n",
       "2                     Insurgent  2.716190e+08  1.012000e+08      119   \n",
       "3  Star Wars: The Force Awakens  1.902723e+09  1.839999e+08      136   \n",
       "4                     Furious 7  1.385749e+09  1.747999e+08      137   \n",
       "\n",
       "   popularity release_year  \n",
       "0   32.985763   2015-01-01  \n",
       "1   28.419936   2015-01-01  \n",
       "2   13.112507   2015-01-01  \n",
       "3   11.173104   2015-01-01  \n",
       "4    9.335014   2015-01-01  "
      ]
     },
     "execution_count": 25,
     "metadata": {},
     "output_type": "execute_result"
    }
   ],
   "source": [
    "df_21.head()"
   ]
  },
  {
   "cell_type": "code",
   "execution_count": 26,
   "metadata": {},
   "outputs": [
    {
     "data": {
      "image/png": "[encoded data removed]",
      "text/plain": [
       "<Figure size 432x288 with 1 Axes>"
      ]
     },
     "metadata": {},
     "output_type": "display_data"
    }
   ],
   "source": [
    "plt.hist(df_21['revenue'])\n",
    "\n",
    "plt.xlabel('Revenue')\n",
    "plt.ylabel('Count')\n",
    "plt.title('Distribution of Revenue');"
   ]
  },
  {
   "cell_type": "markdown",
   "metadata": {},
   "source": [
    "> Apparently, the distribution of revenue is skewed."
   ]
  },
  {
   "cell_type": "code",
   "execution_count": 27,
   "metadata": {},
   "outputs": [
    {
     "data": {
      "image/png": "[encoded data removed]",
      "text/plain": [
       "<Figure size 432x288 with 1 Axes>"
      ]
     },
     "metadata": {},
     "output_type": "display_data"
    }
   ],
   "source": [
    "plt.hist(df_21['runtime'])\n",
    "\n",
    "plt.xlabel('Runtime')\n",
    "plt.ylabel('Count')\n",
    "plt.title('Distribution of Runtime');"
   ]
  },
  {
   "cell_type": "markdown",
   "metadata": {},
   "source": [
    "> The distribution of runtime shows a similar pattern, but it's not as skewed as the one of revenue."
   ]
  },
  {
   "cell_type": "code",
   "execution_count": 28,
   "metadata": {},
   "outputs": [
    {
     "data": {
      "text/html": [
       "<div>\n",
       "<style scoped>\n",
       "    .dataframe tbody tr th:only-of-type {\n",
       "        vertical-align: middle;\n",
       "    }\n",
       "\n",
       "    .dataframe tbody tr th {\n",
       "        vertical-align: top;\n",
       "    }\n",
       "\n",
       "    .dataframe thead th {\n",
       "        text-align: right;\n",
       "    }\n",
       "</style>\n",
       "<table border=\"1\" class=\"dataframe\">\n",
       "  <thead>\n",
       "    <tr style=\"text-align: right;\">\n",
       "      <th></th>\n",
       "      <th>revenue</th>\n",
       "      <th>runtime</th>\n",
       "    </tr>\n",
       "  </thead>\n",
       "  <tbody>\n",
       "    <tr>\n",
       "      <th>revenue</th>\n",
       "      <td>1.000000</td>\n",
       "      <td>0.319021</td>\n",
       "    </tr>\n",
       "    <tr>\n",
       "      <th>runtime</th>\n",
       "      <td>0.319021</td>\n",
       "      <td>1.000000</td>\n",
       "    </tr>\n",
       "  </tbody>\n",
       "</table>\n",
       "</div>"
      ],
      "text/plain": [
       "          revenue   runtime\n",
       "revenue  1.000000  0.319021\n",
       "runtime  0.319021  1.000000"
      ]
     },
     "execution_count": 28,
     "metadata": {},
     "output_type": "execute_result"
    }
   ],
   "source": [
    "df_21[['revenue', 'runtime']].corr()"
   ]
  },
  {
   "cell_type": "markdown",
   "metadata": {},
   "source": [
    "> We calculate the Pearson Correlation Coefficient to see the extent to which these two variables are associated."
   ]
  },
  {
   "cell_type": "code",
   "execution_count": 29,
   "metadata": {},
   "outputs": [
    {
     "data": {
      "image/png": "[encoded data removed]",
      "text/plain": [
       "<Figure size 432x288 with 1 Axes>"
      ]
     },
     "metadata": {},
     "output_type": "display_data"
    }
   ],
   "source": [
    "sns.set_context('notebook')\n",
    "sns.regplot(x=df_21[\"runtime\"], y=df_21[\"revenue\"], fit_reg=True)\n",
    "\n",
    "plt.xlabel('Runtime')\n",
    "plt.ylabel('Revenue in e9')\n",
    "plt.title('Runtime vs. Revenue');"
   ]
  },
  {
   "cell_type": "markdown",
   "metadata": {},
   "source": [
    "> With the seaborn library, we can produce the scatterplot and the regression fit line here."
   ]
  },
  {
   "cell_type": "code",
   "execution_count": 30,
   "metadata": {},
   "outputs": [
    {
     "data": {
      "text/plain": [
       "count    2488.000000\n",
       "mean      107.762862\n",
       "std        17.116081\n",
       "min        62.000000\n",
       "25%        95.000000\n",
       "50%       105.000000\n",
       "75%       117.000000\n",
       "max       179.000000\n",
       "Name: runtime, dtype: float64"
      ]
     },
     "execution_count": 30,
     "metadata": {},
     "output_type": "execute_result"
    }
   ],
   "source": [
    "df_21['runtime'].describe()"
   ]
  },
  {
   "cell_type": "code",
   "execution_count": 31,
   "metadata": {},
   "outputs": [],
   "source": [
    "bin_edges = [62, 95, 105, 117, 179]\n",
    "bin_names = ['short','mid', 'mid-long', 'long']\n",
    "\n",
    "df_21['runtime_level'] = pd.cut(df_21['runtime'], bin_edges, labels=bin_names)"
   ]
  },
  {
   "cell_type": "markdown",
   "metadata": {},
   "source": [
    "> We recode the runtime variable into four categories using quantile breaks."
   ]
  },
  {
   "cell_type": "code",
   "execution_count": 32,
   "metadata": {},
   "outputs": [
    {
     "data": {
      "text/plain": [
       "mid         650\n",
       "short       638\n",
       "long        620\n",
       "mid-long    579\n",
       "Name: runtime_level, dtype: int64"
      ]
     },
     "execution_count": 32,
     "metadata": {},
     "output_type": "execute_result"
    }
   ],
   "source": [
    "df_21['runtime_level'].value_counts()"
   ]
  },
  {
   "cell_type": "code",
   "execution_count": 33,
   "metadata": {},
   "outputs": [
    {
     "data": {
      "text/plain": [
       "runtime_level\n",
       "short       9.327396e+07\n",
       "mid         8.754680e+07\n",
       "mid-long    1.084389e+08\n",
       "long        2.163937e+08\n",
       "Name: revenue, dtype: float64"
      ]
     },
     "execution_count": 33,
     "metadata": {},
     "output_type": "execute_result"
    }
   ],
   "source": [
    "df_21.groupby('runtime_level')['revenue'].mean()"
   ]
  },
  {
   "cell_type": "markdown",
   "metadata": {},
   "source": [
    "> The average values of revenue are given by the code above."
   ]
  },
  {
   "cell_type": "code",
   "execution_count": 34,
   "metadata": {},
   "outputs": [
    {
     "data": {
      "image/png": "[encoded data removed]",
      "text/plain": [
       "<Figure size 432x288 with 1 Axes>"
      ]
     },
     "metadata": {},
     "output_type": "display_data"
    }
   ],
   "source": [
    "sns.boxplot(x=df_21['runtime_level'], y=df_21['revenue'])\n",
    "\n",
    "plt.xlabel('Runtime')\n",
    "plt.ylabel('Revenue in e9')\n",
    "plt.title('Runtime vs. Revenue');"
   ]
  },
  {
   "cell_type": "markdown",
   "metadata": {},
   "source": [
    "In this section, we look into the relationship between revenue and runtime. First of all, the correlation coefficient equals 0.319, indicating a relatively weak linear relationship between the two variables. This aspect is also proven by the later scatterplot. In addition, we separate the runtime into four categories, and calculate the average revenue of each class. Surprisingly, the average revenue of \"mid\" is lower than the one of \"short\". It means that the movie revenue will not follow the same trend of runtime. As can be seen in the boxplot, the distribution of the first three classes are very similar."
   ]
  },
  {
   "cell_type": "markdown",
   "metadata": {},
   "source": [
    "### 3: Relationship between Revenue and Popularity\n",
    "\n",
    "#### Independent Variable: popularity, Dependent Variable: Revenue"
   ]
  },
  {
   "cell_type": "code",
   "execution_count": 35,
   "metadata": {},
   "outputs": [
    {
     "data": {
      "text/html": [
       "<div>\n",
       "<style scoped>\n",
       "    .dataframe tbody tr th:only-of-type {\n",
       "        vertical-align: middle;\n",
       "    }\n",
       "\n",
       "    .dataframe tbody tr th {\n",
       "        vertical-align: top;\n",
       "    }\n",
       "\n",
       "    .dataframe thead th {\n",
       "        text-align: right;\n",
       "    }\n",
       "</style>\n",
       "<table border=\"1\" class=\"dataframe\">\n",
       "  <thead>\n",
       "    <tr style=\"text-align: right;\">\n",
       "      <th></th>\n",
       "      <th>original_title</th>\n",
       "      <th>revenue</th>\n",
       "      <th>budget</th>\n",
       "      <th>runtime</th>\n",
       "      <th>popularity</th>\n",
       "      <th>release_year</th>\n",
       "      <th>runtime_level</th>\n",
       "    </tr>\n",
       "  </thead>\n",
       "  <tbody>\n",
       "    <tr>\n",
       "      <th>0</th>\n",
       "      <td>Jurassic World</td>\n",
       "      <td>1.392446e+09</td>\n",
       "      <td>1.379999e+08</td>\n",
       "      <td>124</td>\n",
       "      <td>32.985763</td>\n",
       "      <td>2015-01-01</td>\n",
       "      <td>long</td>\n",
       "    </tr>\n",
       "    <tr>\n",
       "      <th>1</th>\n",
       "      <td>Mad Max: Fury Road</td>\n",
       "      <td>3.481613e+08</td>\n",
       "      <td>1.379999e+08</td>\n",
       "      <td>120</td>\n",
       "      <td>28.419936</td>\n",
       "      <td>2015-01-01</td>\n",
       "      <td>long</td>\n",
       "    </tr>\n",
       "    <tr>\n",
       "      <th>2</th>\n",
       "      <td>Insurgent</td>\n",
       "      <td>2.716190e+08</td>\n",
       "      <td>1.012000e+08</td>\n",
       "      <td>119</td>\n",
       "      <td>13.112507</td>\n",
       "      <td>2015-01-01</td>\n",
       "      <td>long</td>\n",
       "    </tr>\n",
       "    <tr>\n",
       "      <th>3</th>\n",
       "      <td>Star Wars: The Force Awakens</td>\n",
       "      <td>1.902723e+09</td>\n",
       "      <td>1.839999e+08</td>\n",
       "      <td>136</td>\n",
       "      <td>11.173104</td>\n",
       "      <td>2015-01-01</td>\n",
       "      <td>long</td>\n",
       "    </tr>\n",
       "    <tr>\n",
       "      <th>4</th>\n",
       "      <td>Furious 7</td>\n",
       "      <td>1.385749e+09</td>\n",
       "      <td>1.747999e+08</td>\n",
       "      <td>137</td>\n",
       "      <td>9.335014</td>\n",
       "      <td>2015-01-01</td>\n",
       "      <td>long</td>\n",
       "    </tr>\n",
       "  </tbody>\n",
       "</table>\n",
       "</div>"
      ],
      "text/plain": [
       "                 original_title       revenue        budget  runtime  \\\n",
       "0                Jurassic World  1.392446e+09  1.379999e+08      124   \n",
       "1            Mad Max: Fury Road  3.481613e+08  1.379999e+08      120   \n",
       "2                     Insurgent  2.716190e+08  1.012000e+08      119   \n",
       "3  Star Wars: The Force Awakens  1.902723e+09  1.839999e+08      136   \n",
       "4                     Furious 7  1.385749e+09  1.747999e+08      137   \n",
       "\n",
       "   popularity release_year runtime_level  \n",
       "0   32.985763   2015-01-01          long  \n",
       "1   28.419936   2015-01-01          long  \n",
       "2   13.112507   2015-01-01          long  \n",
       "3   11.173104   2015-01-01          long  \n",
       "4    9.335014   2015-01-01          long  "
      ]
     },
     "execution_count": 35,
     "metadata": {},
     "output_type": "execute_result"
    }
   ],
   "source": [
    "df_21.head()"
   ]
  },
  {
   "cell_type": "code",
   "execution_count": 36,
   "metadata": {},
   "outputs": [
    {
     "data": {
      "image/png": "[encoded data removed]",
      "text/plain": [
       "<Figure size 432x288 with 1 Axes>"
      ]
     },
     "metadata": {},
     "output_type": "display_data"
    }
   ],
   "source": [
    "plt.hist(df_21['popularity'])\n",
    "\n",
    "plt.xlabel('Popularity')\n",
    "plt.ylabel('Count')\n",
    "plt.title('Distribution of Popularity');"
   ]
  },
  {
   "cell_type": "markdown",
   "metadata": {},
   "source": [
    "> Analogous to revenue, the distribution of popularity is right-skewed."
   ]
  },
  {
   "cell_type": "code",
   "execution_count": 37,
   "metadata": {},
   "outputs": [
    {
     "data": {
      "text/html": [
       "<div>\n",
       "<style scoped>\n",
       "    .dataframe tbody tr th:only-of-type {\n",
       "        vertical-align: middle;\n",
       "    }\n",
       "\n",
       "    .dataframe tbody tr th {\n",
       "        vertical-align: top;\n",
       "    }\n",
       "\n",
       "    .dataframe thead th {\n",
       "        text-align: right;\n",
       "    }\n",
       "</style>\n",
       "<table border=\"1\" class=\"dataframe\">\n",
       "  <thead>\n",
       "    <tr style=\"text-align: right;\">\n",
       "      <th></th>\n",
       "      <th>revenue</th>\n",
       "      <th>popularity</th>\n",
       "    </tr>\n",
       "  </thead>\n",
       "  <tbody>\n",
       "    <tr>\n",
       "      <th>revenue</th>\n",
       "      <td>1.000000</td>\n",
       "      <td>0.595301</td>\n",
       "    </tr>\n",
       "    <tr>\n",
       "      <th>popularity</th>\n",
       "      <td>0.595301</td>\n",
       "      <td>1.000000</td>\n",
       "    </tr>\n",
       "  </tbody>\n",
       "</table>\n",
       "</div>"
      ],
      "text/plain": [
       "             revenue  popularity\n",
       "revenue     1.000000    0.595301\n",
       "popularity  0.595301    1.000000"
      ]
     },
     "execution_count": 37,
     "metadata": {},
     "output_type": "execute_result"
    }
   ],
   "source": [
    "df_21[['revenue', 'popularity']].corr()"
   ]
  },
  {
   "cell_type": "code",
   "execution_count": 38,
   "metadata": {},
   "outputs": [
    {
     "data": {
      "image/png": "[encoded data removed]",
      "text/plain": [
       "<Figure size 432x288 with 1 Axes>"
      ]
     },
     "metadata": {},
     "output_type": "display_data"
    }
   ],
   "source": [
    "sns.regplot(x=df_21[\"popularity\"], y=df_21[\"revenue\"], fit_reg=True)\n",
    "\n",
    "plt.xlabel('Popularity')\n",
    "plt.ylabel('Revenue in e9')\n",
    "plt.title('Popularity vs. Revenue');"
   ]
  },
  {
   "cell_type": "code",
   "execution_count": 39,
   "metadata": {},
   "outputs": [
    {
     "data": {
      "text/plain": [
       "count    2488.000000\n",
       "mean        1.333035\n",
       "std         1.674936\n",
       "min         0.001117\n",
       "25%         0.513318\n",
       "50%         0.896547\n",
       "75%         1.536028\n",
       "max        32.985763\n",
       "Name: popularity, dtype: float64"
      ]
     },
     "execution_count": 39,
     "metadata": {},
     "output_type": "execute_result"
    }
   ],
   "source": [
    "df_21['popularity'].describe()"
   ]
  },
  {
   "cell_type": "code",
   "execution_count": 40,
   "metadata": {},
   "outputs": [],
   "source": [
    "bin_edges1 = [df_21['popularity'].describe()['min'], df_21['popularity'].describe()['25%'], df_21['popularity'].describe()['50%'], \n",
    "              df_21['popularity'].describe()['75%'], df_21['popularity'].describe()['max']]\n",
    "bin_names1 = ['low','mid', 'mid-high', 'high']\n",
    "\n",
    "df_21['pop_level'] = pd.cut(df_21['popularity'], bin_edges1, labels=bin_names1)"
   ]
  },
  {
   "cell_type": "code",
   "execution_count": 41,
   "metadata": {},
   "outputs": [
    {
     "data": {
      "text/html": [
       "<div>\n",
       "<style scoped>\n",
       "    .dataframe tbody tr th:only-of-type {\n",
       "        vertical-align: middle;\n",
       "    }\n",
       "\n",
       "    .dataframe tbody tr th {\n",
       "        vertical-align: top;\n",
       "    }\n",
       "\n",
       "    .dataframe thead th {\n",
       "        text-align: right;\n",
       "    }\n",
       "</style>\n",
       "<table border=\"1\" class=\"dataframe\">\n",
       "  <thead>\n",
       "    <tr style=\"text-align: right;\">\n",
       "      <th></th>\n",
       "      <th>original_title</th>\n",
       "      <th>revenue</th>\n",
       "      <th>budget</th>\n",
       "      <th>runtime</th>\n",
       "      <th>popularity</th>\n",
       "      <th>release_year</th>\n",
       "      <th>runtime_level</th>\n",
       "      <th>pop_level</th>\n",
       "    </tr>\n",
       "  </thead>\n",
       "  <tbody>\n",
       "    <tr>\n",
       "      <th>8798</th>\n",
       "      <td>Under Suspicion</td>\n",
       "      <td>3.299476e+05</td>\n",
       "      <td>3.165730e+07</td>\n",
       "      <td>110</td>\n",
       "      <td>0.471019</td>\n",
       "      <td>2000-01-01</td>\n",
       "      <td>mid-long</td>\n",
       "      <td>low</td>\n",
       "    </tr>\n",
       "    <tr>\n",
       "      <th>8799</th>\n",
       "      <td>Ready to Rumble</td>\n",
       "      <td>1.566709e+07</td>\n",
       "      <td>3.039101e+07</td>\n",
       "      <td>107</td>\n",
       "      <td>0.196668</td>\n",
       "      <td>2000-01-01</td>\n",
       "      <td>mid-long</td>\n",
       "      <td>low</td>\n",
       "    </tr>\n",
       "    <tr>\n",
       "      <th>8801</th>\n",
       "      <td>Center Stage</td>\n",
       "      <td>2.178140e+07</td>\n",
       "      <td>2.279326e+07</td>\n",
       "      <td>115</td>\n",
       "      <td>0.253319</td>\n",
       "      <td>2000-01-01</td>\n",
       "      <td>mid-long</td>\n",
       "      <td>low</td>\n",
       "    </tr>\n",
       "    <tr>\n",
       "      <th>8804</th>\n",
       "      <td>Return to Me</td>\n",
       "      <td>4.635895e+07</td>\n",
       "      <td>3.039101e+07</td>\n",
       "      <td>115</td>\n",
       "      <td>0.249219</td>\n",
       "      <td>2000-01-01</td>\n",
       "      <td>mid-long</td>\n",
       "      <td>low</td>\n",
       "    </tr>\n",
       "    <tr>\n",
       "      <th>8808</th>\n",
       "      <td>Saving Grace</td>\n",
       "      <td>3.334208e+07</td>\n",
       "      <td>1.266292e+07</td>\n",
       "      <td>93</td>\n",
       "      <td>0.223263</td>\n",
       "      <td>2000-01-01</td>\n",
       "      <td>short</td>\n",
       "      <td>low</td>\n",
       "    </tr>\n",
       "    <tr>\n",
       "      <th>8809</th>\n",
       "      <td>The Broken Hearts Club: A Romantic Comedy</td>\n",
       "      <td>2.209500e+06</td>\n",
       "      <td>1.266292e+06</td>\n",
       "      <td>94</td>\n",
       "      <td>0.222291</td>\n",
       "      <td>2000-01-01</td>\n",
       "      <td>short</td>\n",
       "      <td>low</td>\n",
       "    </tr>\n",
       "    <tr>\n",
       "      <th>8815</th>\n",
       "      <td>Drowning Mona</td>\n",
       "      <td>1.953533e+07</td>\n",
       "      <td>2.026067e+07</td>\n",
       "      <td>96</td>\n",
       "      <td>0.207785</td>\n",
       "      <td>2000-01-01</td>\n",
       "      <td>mid</td>\n",
       "      <td>low</td>\n",
       "    </tr>\n",
       "    <tr>\n",
       "      <th>8817</th>\n",
       "      <td>Gun Shy</td>\n",
       "      <td>2.066385e+06</td>\n",
       "      <td>1.266292e+07</td>\n",
       "      <td>101</td>\n",
       "      <td>0.203554</td>\n",
       "      <td>2000-01-01</td>\n",
       "      <td>mid</td>\n",
       "      <td>low</td>\n",
       "    </tr>\n",
       "    <tr>\n",
       "      <th>8826</th>\n",
       "      <td>X-Men</td>\n",
       "      <td>1.991874e+08</td>\n",
       "      <td>9.497191e+07</td>\n",
       "      <td>104</td>\n",
       "      <td>0.182246</td>\n",
       "      <td>2000-01-01</td>\n",
       "      <td>mid</td>\n",
       "      <td>low</td>\n",
       "    </tr>\n",
       "    <tr>\n",
       "      <th>8860</th>\n",
       "      <td>The Little Vampire</td>\n",
       "      <td>1.716584e+07</td>\n",
       "      <td>2.785843e+07</td>\n",
       "      <td>95</td>\n",
       "      <td>0.123920</td>\n",
       "      <td>2000-01-01</td>\n",
       "      <td>short</td>\n",
       "      <td>low</td>\n",
       "    </tr>\n",
       "    <tr>\n",
       "      <th>8862</th>\n",
       "      <td>Shadow of the Vampire</td>\n",
       "      <td>1.048365e+07</td>\n",
       "      <td>1.013034e+07</td>\n",
       "      <td>92</td>\n",
       "      <td>0.119214</td>\n",
       "      <td>2000-01-01</td>\n",
       "      <td>short</td>\n",
       "      <td>low</td>\n",
       "    </tr>\n",
       "    <tr>\n",
       "      <th>8866</th>\n",
       "      <td>The Adventures of Rocky &amp; Bullwinkle</td>\n",
       "      <td>4.449095e+07</td>\n",
       "      <td>9.623820e+07</td>\n",
       "      <td>88</td>\n",
       "      <td>0.104908</td>\n",
       "      <td>2000-01-01</td>\n",
       "      <td>short</td>\n",
       "      <td>low</td>\n",
       "    </tr>\n",
       "    <tr>\n",
       "      <th>8868</th>\n",
       "      <td>The Big Kahuna</td>\n",
       "      <td>4.721861e+06</td>\n",
       "      <td>8.864045e+06</td>\n",
       "      <td>90</td>\n",
       "      <td>0.091492</td>\n",
       "      <td>2000-01-01</td>\n",
       "      <td>short</td>\n",
       "      <td>low</td>\n",
       "    </tr>\n",
       "    <tr>\n",
       "      <th>8881</th>\n",
       "      <td>Hanging Up</td>\n",
       "      <td>4.563452e+07</td>\n",
       "      <td>5.065168e+07</td>\n",
       "      <td>94</td>\n",
       "      <td>0.031018</td>\n",
       "      <td>2000-01-01</td>\n",
       "      <td>short</td>\n",
       "      <td>low</td>\n",
       "    </tr>\n",
       "    <tr>\n",
       "      <th>8883</th>\n",
       "      <td>The In Crowd</td>\n",
       "      <td>6.606877e+06</td>\n",
       "      <td>1.899438e+07</td>\n",
       "      <td>105</td>\n",
       "      <td>0.015997</td>\n",
       "      <td>2000-01-01</td>\n",
       "      <td>mid</td>\n",
       "      <td>low</td>\n",
       "    </tr>\n",
       "  </tbody>\n",
       "</table>\n",
       "</div>"
      ],
      "text/plain": [
       "                                 original_title       revenue        budget  \\\n",
       "8798                            Under Suspicion  3.299476e+05  3.165730e+07   \n",
       "8799                            Ready to Rumble  1.566709e+07  3.039101e+07   \n",
       "8801                               Center Stage  2.178140e+07  2.279326e+07   \n",
       "8804                               Return to Me  4.635895e+07  3.039101e+07   \n",
       "8808                               Saving Grace  3.334208e+07  1.266292e+07   \n",
       "8809  The Broken Hearts Club: A Romantic Comedy  2.209500e+06  1.266292e+06   \n",
       "8815                              Drowning Mona  1.953533e+07  2.026067e+07   \n",
       "8817                                    Gun Shy  2.066385e+06  1.266292e+07   \n",
       "8826                                      X-Men  1.991874e+08  9.497191e+07   \n",
       "8860                         The Little Vampire  1.716584e+07  2.785843e+07   \n",
       "8862                      Shadow of the Vampire  1.048365e+07  1.013034e+07   \n",
       "8866       The Adventures of Rocky & Bullwinkle  4.449095e+07  9.623820e+07   \n",
       "8868                             The Big Kahuna  4.721861e+06  8.864045e+06   \n",
       "8881                                 Hanging Up  4.563452e+07  5.065168e+07   \n",
       "8883                               The In Crowd  6.606877e+06  1.899438e+07   \n",
       "\n",
       "      runtime  popularity release_year runtime_level pop_level  \n",
       "8798      110    0.471019   2000-01-01      mid-long       low  \n",
       "8799      107    0.196668   2000-01-01      mid-long       low  \n",
       "8801      115    0.253319   2000-01-01      mid-long       low  \n",
       "8804      115    0.249219   2000-01-01      mid-long       low  \n",
       "8808       93    0.223263   2000-01-01         short       low  \n",
       "8809       94    0.222291   2000-01-01         short       low  \n",
       "8815       96    0.207785   2000-01-01           mid       low  \n",
       "8817      101    0.203554   2000-01-01           mid       low  \n",
       "8826      104    0.182246   2000-01-01           mid       low  \n",
       "8860       95    0.123920   2000-01-01         short       low  \n",
       "8862       92    0.119214   2000-01-01         short       low  \n",
       "8866       88    0.104908   2000-01-01         short       low  \n",
       "8868       90    0.091492   2000-01-01         short       low  \n",
       "8881       94    0.031018   2000-01-01         short       low  \n",
       "8883      105    0.015997   2000-01-01           mid       low  "
      ]
     },
     "execution_count": 41,
     "metadata": {},
     "output_type": "execute_result"
    }
   ],
   "source": [
    "df_21.tail(15)"
   ]
  },
  {
   "cell_type": "code",
   "execution_count": 42,
   "metadata": {},
   "outputs": [
    {
     "data": {
      "text/plain": [
       "high        622\n",
       "mid-high    622\n",
       "mid         622\n",
       "low         621\n",
       "Name: pop_level, dtype: int64"
      ]
     },
     "execution_count": 42,
     "metadata": {},
     "output_type": "execute_result"
    }
   ],
   "source": [
    "df_21['pop_level'].value_counts()"
   ]
  },
  {
   "cell_type": "code",
   "execution_count": 43,
   "metadata": {},
   "outputs": [
    {
     "data": {
      "text/plain": [
       "pop_level\n",
       "low         2.927576e+07\n",
       "mid         6.434916e+07\n",
       "mid-high    1.032452e+08\n",
       "high        3.069734e+08\n",
       "Name: revenue, dtype: float64"
      ]
     },
     "execution_count": 43,
     "metadata": {},
     "output_type": "execute_result"
    }
   ],
   "source": [
    "df_21.groupby('pop_level')['revenue'].mean()"
   ]
  },
  {
   "cell_type": "code",
   "execution_count": 44,
   "metadata": {},
   "outputs": [
    {
     "data": {
      "image/png": "[encoded data removed]",
      "text/plain": [
       "<Figure size 432x288 with 1 Axes>"
      ]
     },
     "metadata": {},
     "output_type": "display_data"
    }
   ],
   "source": [
    "sns.boxplot(x=df_21['pop_level'], y=df_21['revenue'])\n",
    "\n",
    "plt.xlabel('Popularity')\n",
    "plt.ylabel('Revenue in e9')\n",
    "plt.title('Popularity vs. Revenue');"
   ]
  },
  {
   "cell_type": "markdown",
   "metadata": {},
   "source": [
    "This section explores the relationship between revenue and popularity. The correlation coefficient equals 0.6, much higher than the one shown in the previous section. We use a similar methodology to reclassify the popularity variable, and find that the average revenue increases as the popularity climbs. To conclude, revenue and popularity is positively associated with each other."
   ]
  },
  {
   "cell_type": "markdown",
   "metadata": {},
   "source": [
    "### 4: Relationship between Revenue and Budget\n",
    "\n",
    "#### Independent Variable: budget, Dependent Variable: revenue"
   ]
  },
  {
   "cell_type": "code",
   "execution_count": 45,
   "metadata": {},
   "outputs": [
    {
     "data": {
      "text/html": [
       "<div>\n",
       "<style scoped>\n",
       "    .dataframe tbody tr th:only-of-type {\n",
       "        vertical-align: middle;\n",
       "    }\n",
       "\n",
       "    .dataframe tbody tr th {\n",
       "        vertical-align: top;\n",
       "    }\n",
       "\n",
       "    .dataframe thead th {\n",
       "        text-align: right;\n",
       "    }\n",
       "</style>\n",
       "<table border=\"1\" class=\"dataframe\">\n",
       "  <thead>\n",
       "    <tr style=\"text-align: right;\">\n",
       "      <th></th>\n",
       "      <th>original_title</th>\n",
       "      <th>revenue</th>\n",
       "      <th>budget</th>\n",
       "      <th>runtime</th>\n",
       "      <th>popularity</th>\n",
       "      <th>release_year</th>\n",
       "      <th>runtime_level</th>\n",
       "      <th>pop_level</th>\n",
       "    </tr>\n",
       "  </thead>\n",
       "  <tbody>\n",
       "    <tr>\n",
       "      <th>0</th>\n",
       "      <td>Jurassic World</td>\n",
       "      <td>1.392446e+09</td>\n",
       "      <td>1.379999e+08</td>\n",
       "      <td>124</td>\n",
       "      <td>32.985763</td>\n",
       "      <td>2015-01-01</td>\n",
       "      <td>long</td>\n",
       "      <td>high</td>\n",
       "    </tr>\n",
       "    <tr>\n",
       "      <th>1</th>\n",
       "      <td>Mad Max: Fury Road</td>\n",
       "      <td>3.481613e+08</td>\n",
       "      <td>1.379999e+08</td>\n",
       "      <td>120</td>\n",
       "      <td>28.419936</td>\n",
       "      <td>2015-01-01</td>\n",
       "      <td>long</td>\n",
       "      <td>high</td>\n",
       "    </tr>\n",
       "    <tr>\n",
       "      <th>2</th>\n",
       "      <td>Insurgent</td>\n",
       "      <td>2.716190e+08</td>\n",
       "      <td>1.012000e+08</td>\n",
       "      <td>119</td>\n",
       "      <td>13.112507</td>\n",
       "      <td>2015-01-01</td>\n",
       "      <td>long</td>\n",
       "      <td>high</td>\n",
       "    </tr>\n",
       "    <tr>\n",
       "      <th>3</th>\n",
       "      <td>Star Wars: The Force Awakens</td>\n",
       "      <td>1.902723e+09</td>\n",
       "      <td>1.839999e+08</td>\n",
       "      <td>136</td>\n",
       "      <td>11.173104</td>\n",
       "      <td>2015-01-01</td>\n",
       "      <td>long</td>\n",
       "      <td>high</td>\n",
       "    </tr>\n",
       "    <tr>\n",
       "      <th>4</th>\n",
       "      <td>Furious 7</td>\n",
       "      <td>1.385749e+09</td>\n",
       "      <td>1.747999e+08</td>\n",
       "      <td>137</td>\n",
       "      <td>9.335014</td>\n",
       "      <td>2015-01-01</td>\n",
       "      <td>long</td>\n",
       "      <td>high</td>\n",
       "    </tr>\n",
       "  </tbody>\n",
       "</table>\n",
       "</div>"
      ],
      "text/plain": [
       "                 original_title       revenue        budget  runtime  \\\n",
       "0                Jurassic World  1.392446e+09  1.379999e+08      124   \n",
       "1            Mad Max: Fury Road  3.481613e+08  1.379999e+08      120   \n",
       "2                     Insurgent  2.716190e+08  1.012000e+08      119   \n",
       "3  Star Wars: The Force Awakens  1.902723e+09  1.839999e+08      136   \n",
       "4                     Furious 7  1.385749e+09  1.747999e+08      137   \n",
       "\n",
       "   popularity release_year runtime_level pop_level  \n",
       "0   32.985763   2015-01-01          long      high  \n",
       "1   28.419936   2015-01-01          long      high  \n",
       "2   13.112507   2015-01-01          long      high  \n",
       "3   11.173104   2015-01-01          long      high  \n",
       "4    9.335014   2015-01-01          long      high  "
      ]
     },
     "execution_count": 45,
     "metadata": {},
     "output_type": "execute_result"
    }
   ],
   "source": [
    "df_21.head()"
   ]
  },
  {
   "cell_type": "code",
   "execution_count": 46,
   "metadata": {},
   "outputs": [
    {
     "data": {
      "image/png": "[encoded data removed]",
      "text/plain": [
       "<Figure size 432x288 with 1 Axes>"
      ]
     },
     "metadata": {},
     "output_type": "display_data"
    }
   ],
   "source": [
    "plt.hist(df_21['budget'])\n",
    "\n",
    "plt.xlabel('Budget')\n",
    "plt.ylabel('Count')\n",
    "plt.title('Distribution of Budget');"
   ]
  },
  {
   "cell_type": "markdown",
   "metadata": {},
   "source": [
    "> The same right-skewed distribution"
   ]
  },
  {
   "cell_type": "code",
   "execution_count": 47,
   "metadata": {},
   "outputs": [
    {
     "data": {
      "text/html": [
       "<div>\n",
       "<style scoped>\n",
       "    .dataframe tbody tr th:only-of-type {\n",
       "        vertical-align: middle;\n",
       "    }\n",
       "\n",
       "    .dataframe tbody tr th {\n",
       "        vertical-align: top;\n",
       "    }\n",
       "\n",
       "    .dataframe thead th {\n",
       "        text-align: right;\n",
       "    }\n",
       "</style>\n",
       "<table border=\"1\" class=\"dataframe\">\n",
       "  <thead>\n",
       "    <tr style=\"text-align: right;\">\n",
       "      <th></th>\n",
       "      <th>revenue</th>\n",
       "      <th>budget</th>\n",
       "    </tr>\n",
       "  </thead>\n",
       "  <tbody>\n",
       "    <tr>\n",
       "      <th>revenue</th>\n",
       "      <td>1.000000</td>\n",
       "      <td>0.716031</td>\n",
       "    </tr>\n",
       "    <tr>\n",
       "      <th>budget</th>\n",
       "      <td>0.716031</td>\n",
       "      <td>1.000000</td>\n",
       "    </tr>\n",
       "  </tbody>\n",
       "</table>\n",
       "</div>"
      ],
      "text/plain": [
       "          revenue    budget\n",
       "revenue  1.000000  0.716031\n",
       "budget   0.716031  1.000000"
      ]
     },
     "execution_count": 47,
     "metadata": {},
     "output_type": "execute_result"
    }
   ],
   "source": [
    "df_21[['revenue', 'budget']].corr()"
   ]
  },
  {
   "cell_type": "code",
   "execution_count": 48,
   "metadata": {},
   "outputs": [
    {
     "data": {
      "image/png": "[encoded data removed]",
      "text/plain": [
       "<Figure size 720x432 with 1 Axes>"
      ]
     },
     "metadata": {},
     "output_type": "display_data"
    }
   ],
   "source": [
    "df_21.plot.scatter(x='budget', y='revenue', figsize = (10,6))\n",
    "\n",
    "plt.xlabel('Budget in e8')\n",
    "plt.ylabel('Revenue')\n",
    "plt.title('Budget vs. Revenue');"
   ]
  },
  {
   "cell_type": "code",
   "execution_count": 49,
   "metadata": {},
   "outputs": [
    {
     "data": {
      "text/plain": [
       "count    2.488000e+03\n",
       "mean     4.629471e+07\n",
       "std      4.857872e+07\n",
       "min      9.693980e-01\n",
       "25%      1.266215e+07\n",
       "50%      2.979344e+07\n",
       "75%      6.257853e+07\n",
       "max      4.250000e+08\n",
       "Name: budget, dtype: float64"
      ]
     },
     "execution_count": 49,
     "metadata": {},
     "output_type": "execute_result"
    }
   ],
   "source": [
    "df_21['budget'].describe()"
   ]
  },
  {
   "cell_type": "code",
   "execution_count": 50,
   "metadata": {},
   "outputs": [],
   "source": [
    "bin_edges2 = [df_21['budget'].describe()['min'], df_21['budget'].describe()['25%'], df_21['budget'].describe()['50%'], \n",
    "              df_21['budget'].describe()['75%'], df_21['budget'].describe()['max']]\n",
    "bin_names2 = ['low','mid', 'mid-high', 'high']\n",
    "\n",
    "df_21['budget_level'] = pd.cut(df_21['budget'], bin_edges2, labels=bin_names2)"
   ]
  },
  {
   "cell_type": "code",
   "execution_count": 51,
   "metadata": {},
   "outputs": [
    {
     "data": {
      "text/html": [
       "<div>\n",
       "<style scoped>\n",
       "    .dataframe tbody tr th:only-of-type {\n",
       "        vertical-align: middle;\n",
       "    }\n",
       "\n",
       "    .dataframe tbody tr th {\n",
       "        vertical-align: top;\n",
       "    }\n",
       "\n",
       "    .dataframe thead th {\n",
       "        text-align: right;\n",
       "    }\n",
       "</style>\n",
       "<table border=\"1\" class=\"dataframe\">\n",
       "  <thead>\n",
       "    <tr style=\"text-align: right;\">\n",
       "      <th></th>\n",
       "      <th>original_title</th>\n",
       "      <th>revenue</th>\n",
       "      <th>budget</th>\n",
       "      <th>runtime</th>\n",
       "      <th>popularity</th>\n",
       "      <th>release_year</th>\n",
       "      <th>runtime_level</th>\n",
       "      <th>pop_level</th>\n",
       "      <th>budget_level</th>\n",
       "    </tr>\n",
       "  </thead>\n",
       "  <tbody>\n",
       "    <tr>\n",
       "      <th>1</th>\n",
       "      <td>Mad Max: Fury Road</td>\n",
       "      <td>3.481613e+08</td>\n",
       "      <td>1.379999e+08</td>\n",
       "      <td>120</td>\n",
       "      <td>28.419936</td>\n",
       "      <td>2015-01-01</td>\n",
       "      <td>long</td>\n",
       "      <td>high</td>\n",
       "      <td>high</td>\n",
       "    </tr>\n",
       "    <tr>\n",
       "      <th>11</th>\n",
       "      <td>Jupiter Ascending</td>\n",
       "      <td>1.692686e+08</td>\n",
       "      <td>1.619199e+08</td>\n",
       "      <td>124</td>\n",
       "      <td>6.189369</td>\n",
       "      <td>2015-01-01</td>\n",
       "      <td>long</td>\n",
       "      <td>high</td>\n",
       "      <td>high</td>\n",
       "    </tr>\n",
       "    <tr>\n",
       "      <th>21</th>\n",
       "      <td>Southpaw</td>\n",
       "      <td>8.437300e+07</td>\n",
       "      <td>2.759999e+07</td>\n",
       "      <td>123</td>\n",
       "      <td>5.337064</td>\n",
       "      <td>2015-01-01</td>\n",
       "      <td>long</td>\n",
       "      <td>high</td>\n",
       "      <td>mid</td>\n",
       "    </tr>\n",
       "    <tr>\n",
       "      <th>32</th>\n",
       "      <td>Pitch Perfect 2</td>\n",
       "      <td>2.645056e+08</td>\n",
       "      <td>2.667999e+07</td>\n",
       "      <td>115</td>\n",
       "      <td>3.877764</td>\n",
       "      <td>2015-01-01</td>\n",
       "      <td>mid-long</td>\n",
       "      <td>high</td>\n",
       "      <td>mid</td>\n",
       "    </tr>\n",
       "    <tr>\n",
       "      <th>43</th>\n",
       "      <td>The Man from U.N.C.L.E.</td>\n",
       "      <td>9.949346e+07</td>\n",
       "      <td>6.899997e+07</td>\n",
       "      <td>116</td>\n",
       "      <td>3.053421</td>\n",
       "      <td>2015-01-01</td>\n",
       "      <td>mid-long</td>\n",
       "      <td>high</td>\n",
       "      <td>high</td>\n",
       "    </tr>\n",
       "    <tr>\n",
       "      <th>54</th>\n",
       "      <td>Point Break</td>\n",
       "      <td>1.230212e+08</td>\n",
       "      <td>9.659996e+07</td>\n",
       "      <td>114</td>\n",
       "      <td>2.614499</td>\n",
       "      <td>2015-01-01</td>\n",
       "      <td>mid-long</td>\n",
       "      <td>high</td>\n",
       "      <td>high</td>\n",
       "    </tr>\n",
       "    <tr>\n",
       "      <th>64</th>\n",
       "      <td>Focus</td>\n",
       "      <td>1.416459e+08</td>\n",
       "      <td>4.609198e+07</td>\n",
       "      <td>105</td>\n",
       "      <td>2.395366</td>\n",
       "      <td>2015-01-01</td>\n",
       "      <td>mid</td>\n",
       "      <td>high</td>\n",
       "      <td>mid-high</td>\n",
       "    </tr>\n",
       "    <tr>\n",
       "      <th>78</th>\n",
       "      <td>The Night Before</td>\n",
       "      <td>4.820430e+07</td>\n",
       "      <td>2.299999e+07</td>\n",
       "      <td>100</td>\n",
       "      <td>2.096273</td>\n",
       "      <td>2015-01-01</td>\n",
       "      <td>mid</td>\n",
       "      <td>high</td>\n",
       "      <td>mid</td>\n",
       "    </tr>\n",
       "    <tr>\n",
       "      <th>89</th>\n",
       "      <td>Child 44</td>\n",
       "      <td>3.058382e+06</td>\n",
       "      <td>4.599998e+07</td>\n",
       "      <td>137</td>\n",
       "      <td>1.956320</td>\n",
       "      <td>2015-01-01</td>\n",
       "      <td>long</td>\n",
       "      <td>high</td>\n",
       "      <td>mid-high</td>\n",
       "    </tr>\n",
       "    <tr>\n",
       "      <th>105</th>\n",
       "      <td>The Wedding Ringer</td>\n",
       "      <td>7.341586e+07</td>\n",
       "      <td>2.115999e+07</td>\n",
       "      <td>101</td>\n",
       "      <td>1.510096</td>\n",
       "      <td>2015-01-01</td>\n",
       "      <td>mid</td>\n",
       "      <td>mid-high</td>\n",
       "      <td>mid</td>\n",
       "    </tr>\n",
       "  </tbody>\n",
       "</table>\n",
       "</div>"
      ],
      "text/plain": [
       "              original_title       revenue        budget  runtime  popularity  \\\n",
       "1         Mad Max: Fury Road  3.481613e+08  1.379999e+08      120   28.419936   \n",
       "11         Jupiter Ascending  1.692686e+08  1.619199e+08      124    6.189369   \n",
       "21                  Southpaw  8.437300e+07  2.759999e+07      123    5.337064   \n",
       "32           Pitch Perfect 2  2.645056e+08  2.667999e+07      115    3.877764   \n",
       "43   The Man from U.N.C.L.E.  9.949346e+07  6.899997e+07      116    3.053421   \n",
       "54               Point Break  1.230212e+08  9.659996e+07      114    2.614499   \n",
       "64                     Focus  1.416459e+08  4.609198e+07      105    2.395366   \n",
       "78          The Night Before  4.820430e+07  2.299999e+07      100    2.096273   \n",
       "89                  Child 44  3.058382e+06  4.599998e+07      137    1.956320   \n",
       "105       The Wedding Ringer  7.341586e+07  2.115999e+07      101    1.510096   \n",
       "\n",
       "    release_year runtime_level pop_level budget_level  \n",
       "1     2015-01-01          long      high         high  \n",
       "11    2015-01-01          long      high         high  \n",
       "21    2015-01-01          long      high          mid  \n",
       "32    2015-01-01      mid-long      high          mid  \n",
       "43    2015-01-01      mid-long      high         high  \n",
       "54    2015-01-01      mid-long      high         high  \n",
       "64    2015-01-01           mid      high     mid-high  \n",
       "78    2015-01-01           mid      high          mid  \n",
       "89    2015-01-01          long      high     mid-high  \n",
       "105   2015-01-01           mid  mid-high          mid  "
      ]
     },
     "execution_count": 51,
     "metadata": {},
     "output_type": "execute_result"
    }
   ],
   "source": [
    "df_21.iloc[[x for x in np.arange(1,100,10)], :]"
   ]
  },
  {
   "cell_type": "code",
   "execution_count": 52,
   "metadata": {},
   "outputs": [
    {
     "data": {
      "text/plain": [
       "high        622\n",
       "mid-high    622\n",
       "mid         622\n",
       "low         621\n",
       "Name: budget_level, dtype: int64"
      ]
     },
     "execution_count": 52,
     "metadata": {},
     "output_type": "execute_result"
    }
   ],
   "source": [
    "df_21['budget_level'].value_counts()"
   ]
  },
  {
   "cell_type": "code",
   "execution_count": 53,
   "metadata": {},
   "outputs": [
    {
     "data": {
      "text/plain": [
       "budget_level\n",
       "low         2.287363e+07\n",
       "mid         5.234459e+07\n",
       "mid-high    1.041229e+08\n",
       "high        3.244986e+08\n",
       "Name: revenue, dtype: float64"
      ]
     },
     "execution_count": 53,
     "metadata": {},
     "output_type": "execute_result"
    }
   ],
   "source": [
    "df_21.groupby('budget_level')['revenue'].mean()"
   ]
  },
  {
   "cell_type": "code",
   "execution_count": 54,
   "metadata": {},
   "outputs": [
    {
     "data": {
      "image/png": "[encoded data removed]",
      "text/plain": [
       "<Figure size 432x288 with 1 Axes>"
      ]
     },
     "metadata": {},
     "output_type": "display_data"
    }
   ],
   "source": [
    "sns.boxplot(x=df_21['budget_level'], y=df_21['revenue'])\n",
    "\n",
    "plt.xlabel('Budget Level')\n",
    "plt.ylabel('Revenue in e9')\n",
    "plt.title('Budget vs. Revenue');"
   ]
  },
  {
   "cell_type": "markdown",
   "metadata": {},
   "source": [
    "In this section, we dig into the relationship between budget and revenue. The Pearson Correlation Coefficient of 0.716 indicates that the two variables are highly correlated. Similar to the previous exploratory analyses, we seperate the budget into four categories. As the budget level increases, the average movie revenue tends to climb as well. Furthermore, the overall level of the last box in the boxplot is considerably higher than its counterparts. As a result, we conclude that movie revenue and budget is positively correlated."
   ]
  },
  {
   "cell_type": "markdown",
   "metadata": {},
   "source": [
    "<a id='conclusions'></a>\n",
    "## Conclusions\n"
   ]
  },
  {
   "cell_type": "markdown",
   "metadata": {},
   "source": [
    "This report uses the TMDb data from https://github.com/udacity/new-dand-basic-china/blob/master/%E6%95%B0%E6%8D%AE%E5%88%86%E6%9E%90%E5%85%A5%E9%97%A8/%E9%A1%B9%E7%9B%AE-%E6%8E%A2%E7%B4%A2%E6%95%B0%E6%8D%AE%E9%9B%86/%E6%8E%A2%E7%B4%A2%E6%95%B0%E6%8D%AE%E9%9B%86%20-%20%E5%A4%87%E9%80%89%E6%95%B0%E6%8D%AE%E9%9B%86.md, to explore the relationship between movie revenue and year, runtime, popularity as well as budget. The findings are as follows.\n",
    "\n",
    "Generally speaking, the revenue increases from 2000 to 2015, but the numbers fluctuate quite a bit. What might also worth noticing is that the revenue is impacted by inflation. In other words, the value of 1 dollar differs in 2000 and 2015. For future research, we may consider using 2015 inflation level to normalize the movie revenues.\n",
    "\n",
    "In addition, among runtime, popularity, and budget, the report discovers that the degree to which revenue and budget are associated to each other is the highest, while revenue and runtime are least correlated to one another. However, it does not indicate a causal relationship between independent and dependent variables.\n",
    "\n",
    "Regarding the next steps, as previously mentioned, we can use cpi inflation calculator to normalize the revenue of each year. Secondly, we can also use regression methods to further explore the relationships between revenue and independent variables. And since the distributions of most variables are skewed, it would be more appropriate to perform log transformation before running regression."
   ]
  }
 ],
 "metadata": {
  "kernelspec": {
   "display_name": "Python 3",
   "language": "python",
   "name": "python3"
  },
  "language_info": {
   "codemirror_mode": {
    "name": "ipython",
    "version": 3
   },
   "file_extension": ".py",
   "mimetype": "text/x-python",
   "name": "python",
   "nbconvert_exporter": "python",
   "pygments_lexer": "ipython3",
   "version": "3.6.6"
  }
 },
 "nbformat": 4,
 "nbformat_minor": 2
}
